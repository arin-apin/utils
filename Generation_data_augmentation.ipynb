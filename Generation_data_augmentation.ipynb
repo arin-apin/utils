{
  "cells": [
    {
      "cell_type": "markdown",
      "source": [
        "[![Open In Colab](https://colab.research.google.com/assets/colab-badge.svg)](https://colab.research.google.com/drive/1GpWVsfnoIUjPBEYEfZcy9xaYxyE24eE8)"
      ],
      "metadata": {
        "id": "Q5MI1sYRzW4U"
      }
    },
    {
      "cell_type": "code",
      "execution_count": null,
      "metadata": {
        "id": "cw7ceVLDSHHs"
      },
      "outputs": [],
      "source": [
        "#\n",
        "#@title Imports\n",
        "\n",
        "#test python 2.8.3 for faster processing\n",
        "!pip install tensorflow==2.11\n",
        "\n",
        "import tensorflow as tf\n",
        "from tensorflow import keras\n",
        "from tensorflow.keras import layers\n",
        "import matplotlib.pyplot as plt\n",
        "from keras_preprocessing.image import load_img\n",
        "from tensorflow.keras.utils import img_to_array\n",
        "import numpy as np\n",
        "\n",
        "\n",
        "tf.get_logger().setLevel('ERROR')\n",
        "print(tf.__version__)"
      ]
    },
    {
      "cell_type": "code",
      "execution_count": null,
      "metadata": {
        "id": "UoOChIxZ2j0-"
      },
      "outputs": [],
      "source": [
        "#Upload image\n",
        "\n",
        "from keras_preprocessing.image import load_img\n",
        "from tensorflow.keras.utils import img_to_array\n",
        "import numpy as np\n",
        "\n",
        "img_augmentation = keras.Sequential(\n",
        "    [\n",
        "        layers.RandomFlip(\"horizontal\"),\n",
        "        #layers.RandomRotation(0.1),\n",
        "    ]\n",
        ")\n",
        "\n",
        "plt.figure(figsize=(21, 14))\n",
        "image = load_img(\"/content/sample_data/pexels-pixabay-159778.jpg\")\n",
        "image = img_to_array(image)\n",
        "print(type(image))\n",
        "print(image.shape)\n",
        "input_tensor = np.expand_dims(image, axis=0)\n",
        "#print(input_tensor.shape) tiene que ser 1-x-x-3\n",
        "\n",
        "for i in range(9):\n",
        "    augmented_images = img_augmentation(input_tensor)\n",
        "    ax = plt.subplot(3, 3, i + 1)\n",
        "    plt.imshow(augmented_images[0].numpy().astype(\"uint8\"))\n",
        "    plt.axis(\"off\")\n"
      ]
    },
    {
      "cell_type": "code",
      "execution_count": null,
      "metadata": {
        "id": "dnyROJMLyuxq"
      },
      "outputs": [],
      "source": [
        "#@title Translation transformation\n",
        "\n",
        "img_augmentation = tf.keras.Sequential()\n",
        "Y = 0 #@param {type:\"slider\", min:0, max:1, step:0.05}\n",
        "X = 0.85 #@param {type:\"slider\", min:0, max:1, step:0.05}\n",
        "print('Translation')\n",
        "img_augmentation.add(layers.RandomTranslation(height_factor=Y, width_factor=X, \n",
        "                                              fill_mode=\"constant\", fill_value=230))\n",
        "\n",
        "plt.figure(figsize=(21,14))\n",
        "for i in range(9):\n",
        "    augmented_images = img_augmentation(input_tensor)\n",
        "    ax = plt.subplot(3, 3, i + 1)\n",
        "    plt.imshow(augmented_images[0].numpy().astype(\"uint8\"))\n",
        "    plt.axis(\"off\")\n",
        "\n",
        "\n",
        "\n"
      ]
    },
    {
      "cell_type": "code",
      "execution_count": null,
      "metadata": {
        "id": "6czMC-B52vsI"
      },
      "outputs": [],
      "source": [
        "#@title Flip transformation\n",
        "\n",
        "Horizontal = True #@param {type:\"boolean\"}\n",
        "Vertical = True #@param {type:\"boolean\"}\n",
        "\n",
        "img_augmentation = keras.Sequential()\n",
        "\n",
        "if Horizontal:\n",
        "    if Vertical == True:\n",
        "            flip_mode = \"horizontal_and_vertical\"\n",
        "            img_augmentation.add(layers.RandomFlip(mode=flip_mode)) \n",
        "    else:\n",
        "            flip_mode = \"horizontal\"\n",
        "            img_augmentation.add(layers.RandomFlip(mode=flip_mode)) \n",
        "elif  Vertical == True:\n",
        "        flip_mode = \"vertical\"\n",
        "        img_augmentation.add(layers.RandomFlip(mode=flip_mode)) \n",
        "else:\n",
        "    print(\"Both empty\")\n",
        "\n",
        "plt.figure(figsize=(21,14))\n",
        "for i in range(9):\n",
        "    augmented_images = img_augmentation(input_tensor)\n",
        "    ax = plt.subplot(3, 3, i + 1)\n",
        "    plt.imshow(augmented_images[0].numpy().astype(\"uint8\"))\n",
        "    plt.axis(\"off\")"
      ]
    },
    {
      "cell_type": "code",
      "execution_count": null,
      "metadata": {
        "id": "UwAlw6t7yu6l"
      },
      "outputs": [],
      "source": [
        "#@title Rotation transformation\n",
        "img_augmentation = keras.Sequential()\n",
        "rotation = 90 #@param {type:\"slider\", min:0, max:180, step:5}\n",
        "rotation = rotation/360\n",
        "print(\"Rotation...\")\n",
        "img_augmentation.add(layers.RandomRotation(factor=rotation)) \n",
        "\n",
        "plt.figure(figsize=(21,14))\n",
        "\n",
        "for i in range(9):\n",
        "    augmented_images = img_augmentation(input_tensor)\n",
        "    ax = plt.subplot(3, 3, i + 1)\n",
        "    plt.imshow(augmented_images[0].numpy().astype(\"uint8\"))\n",
        "    plt.axis(\"off\")\n",
        "\n"
      ]
    },
    {
      "cell_type": "code",
      "execution_count": null,
      "metadata": {
        "id": "rTaygoEeyu9f",
        "cellView": "form"
      },
      "outputs": [],
      "source": [
        "#@title Zoom transformation\n",
        "img_augmentation = keras.Sequential()\n",
        "In = 1 #@param {type:\"slider\", min:0, max:1, step:0.05}\n",
        "Out = 0 #@param {type:\"slider\", min:0, max:1, step:0.05}\n",
        "print(\"Zoom...\")\n",
        "\n",
        "zoom = (-abs(In),Out)\n",
        "img_augmentation.add(layers.RandomZoom(height_factor=zoom, width_factor=None))\n",
        "plt.figure(figsize=(21,14))\n",
        "\n",
        "for i in range(9):\n",
        "    augmented_images = img_augmentation(input_tensor)\n",
        "    ax = plt.subplot(3, 3, i + 1)\n",
        "    plt.imshow(augmented_images[0].numpy().astype(\"uint8\"))\n",
        "    plt.axis(\"off\")"
      ]
    },
    {
      "cell_type": "code",
      "execution_count": null,
      "metadata": {
        "id": "9pxgjAl_2J6w"
      },
      "outputs": [],
      "source": [
        "#@title Brightness transformation\n",
        "\n",
        "Darken = 1 #@param {type:\"slider\", min:0, max:1, step:0.05}\n",
        "Brighten = 0 #@param {type:\"slider\", min:0, max:1, step:0.05}\n",
        "img_augmentation = keras.Sequential()\n",
        "\n",
        "print(\"Brightness\")\n",
        "min_bright = Darken\n",
        "max_bright = Brighten\n",
        "bright = (-abs(min_bright), max_bright)\n",
        "img_augmentation.add(layers.RandomBrightness(factor=bright)) \n",
        "\n",
        "plt.figure(figsize=(21,14))\n",
        "for i in range(9):\n",
        "    augmented_images = img_augmentation(input_tensor)\n",
        "    ax = plt.subplot(3, 3, i + 1)\n",
        "    plt.imshow(augmented_images[0].numpy().astype(\"uint8\"))\n",
        "    plt.axis(\"off\")"
      ]
    }
  ],
  "metadata": {
    "colab": {
      "provenance": []
    },
    "kernelspec": {
      "display_name": "Python 3",
      "name": "python3"
    },
    "language_info": {
      "name": "python"
    }
  },
  "nbformat": 4,
  "nbformat_minor": 0
}